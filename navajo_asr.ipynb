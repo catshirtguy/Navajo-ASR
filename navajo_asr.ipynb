{
 "cells": [
  {
   "cell_type": "code",
   "execution_count": null,
   "id": "fab3172b-52e6-441a-a749-11dc866c1c1a",
   "metadata": {},
   "outputs": [],
   "source": [
    "import cv2\n",
    "\n",
    "import numpy as np\n",
    "import tensorflow as tf\n",
    "import seaborn as sns\n",
    "import tensorflow_io as tfio\n",
    "\n",
    "import matplotlib.pyplot as plt\n",
    "\n",
    "from keras.models import load_model\n",
    "\n",
    "from tensorflow.keras import layers\n",
    "from tensorflow.keras import models\n",
    "\n",
    "from sklearn.utils import shuffle\n",
    "\n",
    "import IPython.display as ipd\n",
    "import librosa.display\n",
    "from IPython import display\n",
    "\n",
    "# Set the seed value for experiment reproducibility.\n",
    "seed = 42\n",
    "tf.random.set_seed(seed)\n",
    "np.random.seed(seed)"
   ]
  },
  {
   "cell_type": "markdown",
   "id": "3e6b3d07-f80b-47c9-a18a-08d8bcf89d5e",
   "metadata": {},
   "source": [
    "# Load Files"
   ]
  },
  {
   "cell_type": "code",
   "execution_count": null,
   "id": "f1abab2b-8400-4264-a06f-7ed877cd6d98",
   "metadata": {},
   "outputs": [],
   "source": [
    "batch_size = 32\n",
    "sampling_size = 16000\n",
    "\n",
    "train_data_ES_A = 'C:/<enter_file_path_here>'\n",
    "test_data_ES_A = 'C:/<enter_file_path_here>'\n",
    "\n",
    "train_ds_ES_A = tf.keras.utils.audio_dataset_from_directory(\n",
    "    directory = train_data_ES_A,\n",
    "    batch_size = batch_size,\n",
    "    seed = 0,\n",
    "    output_sequence_length = sampling_size,\n",
    "    )\n",
    "\n",
    "label_names_ES_A = np.array(train_ds_ES_A.class_names)\n",
    "print()\n",
    "print(\"label names:\", label_names_ES_A)\n",
    "\n",
    "train_ds_ES_A.element_spec"
   ]
  },
  {
   "cell_type": "code",
   "execution_count": null,
   "id": "26bce6e1-3cbc-47cf-a5b9-0f0ea8014f69",
   "metadata": {},
   "outputs": [],
   "source": [
    "val_ds_ES_A = tf.keras.utils.audio_dataset_from_directory(\n",
    "    directory = test_data_ES_A,\n",
    "    batch_size = batch_size,\n",
    "    seed = 0,\n",
    "    output_sequence_length=sampling_size,\n",
    "    )\n",
    "\n",
    "\n",
    "label_names_ES_A = np.array(train_ds_ES_A.class_names)\n",
    "print()\n",
    "print(\"label names:\", label_names_ES_A)"
   ]
  },
  {
   "cell_type": "markdown",
   "id": "8461d61f-7344-4e91-a05e-97909fab1684",
   "metadata": {},
   "source": [
    "# Combine dataset and labels"
   ]
  },
  {
   "cell_type": "code",
   "execution_count": null,
   "id": "f01b5301-2f91-40bd-8f33-79372aff9690",
   "metadata": {},
   "outputs": [],
   "source": [
    "def squeeze(audio, labels):\n",
    "  audio = tf.squeeze(audio, axis=-1)\n",
    "  return audio, labels\n",
    "\n",
    "train_ds_ES_A = train_ds_ES_A.map(squeeze, tf.data.AUTOTUNE)\n",
    "val_ds_ES_A = val_ds_ES_A.map(squeeze, tf.data.AUTOTUNE)\n",
    "\n",
    "test_ds_ES_A = val_ds_ES_A.shard(num_shards=2, index=0)\n",
    "val_ds_ES_A = val_ds_ES_A.shard(num_shards=2, index=1)\n",
    "\n",
    "for example_audio_ES_A, example_labels_ES_A in train_ds_ES_A.take(1):  \n",
    "  print(example_audio_ES_A.shape)\n",
    "  print(example_labels_ES_A.shape)"
   ]
  },
  {
   "cell_type": "markdown",
   "id": "e022bf0c-eebf-4185-b42c-2e0a7ec37559",
   "metadata": {},
   "source": [
    "# Feature Extraction"
   ]
  },
  {
   "cell_type": "code",
   "execution_count": null,
   "id": "6b4938a9-ef60-4bb8-82bc-4d24ebdf3d85",
   "metadata": {},
   "outputs": [],
   "source": [
    "param1 = 10\n",
    "mels = 63\n",
    "\n",
    "def get_spectrogram_ES_A(waveform, aug):\n",
    "    spectrogram = tfio.audio.spectrogram(waveform, nfft=512, window=512, stride=256)\n",
    "\n",
    "    mel_spectrogram = tfio.audio.melscale(spectrogram, rate=16000, mels=mels, fmin=0, fmax=8000)\n",
    "    dbscale_mel_spectrogram = tfio.audio.dbscale(mel_spectrogram, top_db=80)\n",
    "\n",
    "    # frequency masking\n",
    "    #if aug == 1:\n",
    "        #param1 = random.choice(list_a)\n",
    "        #dbscale_mel_spectrogram = tfio.audio.freq_mask(dbscale_mel_spectrogram, param=param1)\n",
    "\n",
    "    # time masking\n",
    "    #elif aug == 2:\n",
    "        #param2 = random.choice(list_a)\n",
    "        #dbscale_mel_spectrogram = tfio.audio.time_mask(dbscale_mel_spectrogram, param=param2)\n",
    "        \n",
    "    # Add a `channels` dimension, so that the spectrogram can be used\n",
    "    # as image-like input data with convolution layers (which expect\n",
    "    # shape (`batch_size`, `height`, `width`, `channels`).\n",
    "    mel_spectrograms = dbscale_mel_spectrogram[..., tf.newaxis]\n",
    "     \n",
    "    return mel_spectrograms"
   ]
  },
  {
   "cell_type": "code",
   "execution_count": null,
   "id": "84dfb012-145a-4317-bff0-ff1887cc2233",
   "metadata": {},
   "outputs": [],
   "source": [
    "def make_spec_ds_ES_A(ds, aug):\n",
    "    return ds.map(\n",
    "        map_func = lambda audio,label: (get_spectrogram_ES_A(audio, aug), label),\n",
    "        num_parallel_calls=tf.data.AUTOTUNE)\n",
    "\n",
    "train_spectrogram_ds_ES_A = make_spec_ds_ES_A(train_ds_ES_A, 0)\n",
    "val_spectrogram_ds_ES_A = make_spec_ds_ES_A(val_ds_ES_A, 0)\n",
    "test_spectrogram_ds_ES_A = make_spec_ds_ES_A(test_ds_ES_A, 0)\n",
    "\n",
    "# Spec Augmentation\n",
    "spec_a = 0\n",
    "\n",
    "# add time mask\n",
    "#train_spectrogram_ds_A_1 = make_spec_ds_ES_A(train_ds_ES_A, spec_a)"
   ]
  },
  {
   "cell_type": "code",
   "execution_count": null,
   "id": "7a60aa76-adcf-4e52-87db-63fe337c72c1",
   "metadata": {},
   "outputs": [],
   "source": [
    "for example_spectrograms_ES_A, example_spect_labels_ES_A in train_spectrogram_ds_ES_A.take(1):\n",
    "  break\n",
    "\n",
    "if spec_a == 1:\n",
    "    for example_spectrograms_A_1, example_spect_labels_A_1 in train_spectrogram_ds_A_1.take(1):\n",
    "      break"
   ]
  },
  {
   "cell_type": "code",
   "execution_count": null,
   "id": "bcfd9427-4c3e-4d62-92e9-d89b89e27fcd",
   "metadata": {},
   "outputs": [],
   "source": [
    "if spec_a == 1:\n",
    "    train_spectrogram_ds_ = train_spectrogram_ds_ES_A.concatenate(train_spectrogram_ds_A_1)\n",
    "    train_spectrogram_ds_ES_A = train_spectrogram_ds_.cache().shuffle(10000).prefetch(tf.data.AUTOTUNE)\n",
    "\n",
    "else:\n",
    "    train_spectrogram_ds_ES_A = train_spectrogram_ds_ES_A.cache().shuffle(10000).prefetch(tf.data.AUTOTUNE)\n",
    "\n",
    "val_spectrogram_ds_ES_A = val_spectrogram_ds_ES_A.cache().prefetch(tf.data.AUTOTUNE)\n",
    "test_spectrogram_ds_ES_A = test_spectrogram_ds_ES_A.cache().prefetch(tf.data.AUTOTUNE)"
   ]
  },
  {
   "cell_type": "markdown",
   "id": "536d2dcf-1b8c-49c0-99bf-19d27033c809",
   "metadata": {},
   "source": [
    "# Training Model"
   ]
  },
  {
   "cell_type": "code",
   "execution_count": null,
   "id": "44ecaadf-e599-4e21-96cd-8f95be06fff2",
   "metadata": {},
   "outputs": [],
   "source": [
    "def build_model(seed=42):\n",
    "    tf.random.set_seed(seed)\n",
    "    input_shape = example_spectrograms_ES_A.shape[1:]\n",
    "    print('Input shape:', input_shape)\n",
    "    #print(len(input_shape))\n",
    "    num_labels = len(label_names_ES_A)\n",
    "    #print('Total labels:', num_labels)\n",
    "\n",
    "    # Instantiate the `tf.keras.layers.Normalization` layer.\n",
    "    norm_layer = layers.Normalization()\n",
    "    # Fit the state of the layer to the spectrograms\n",
    "    # with `Normalization.adapt`.\n",
    "    norm_layer.adapt(data=train_spectrogram_ds_ES_A.map(map_func=lambda spec, label: spec))\n",
    "\n",
    "    model = models.Sequential([\n",
    "        layers.Input(shape=input_shape),\n",
    "        # Downsample the input.\n",
    "        layers.Resizing(63, 63),\n",
    "        # Normalize.\n",
    "        norm_layer,\n",
    "        # Deduce dimnsion by 1\n",
    "        layers.Reshape((63,63)),\n",
    "        layers.LSTM(128, return_sequences=False),#, activation='relu'),\n",
    "        layers.Dropout(0.2),\n",
    "        layers.Dense(32, activation='relu'),\n",
    "        layers.Dropout(0.2),\n",
    "        layers.Dense(num_labels),\n",
    "    ])\n",
    "    return model"
   ]
  },
  {
   "cell_type": "markdown",
   "id": "34e5f20d-6877-4ccb-b684-43290c312a5f",
   "metadata": {},
   "source": [
    "# Build and Traing Model"
   ]
  },
  {
   "cell_type": "code",
   "execution_count": null,
   "id": "0b7a1a52-e466-438a-a631-918aa75478b4",
   "metadata": {},
   "outputs": [],
   "source": [
    "EPOCHS = 10\n",
    "\n",
    "def build_and_train(optimizer, i):    \n",
    "    new = 'model_'+i+'_ES_specA.keras'\n",
    "    model = build_model()\n",
    "    model.compile(optimizer=optimizer,\n",
    "                  # Loss Function to minimize\n",
    "                  loss=tf.keras.losses.SparseCategoricalCrossentropy(from_logits=True),\n",
    "                  metrics=['accuracy'])\n",
    "    print(model.summary())\n",
    "    return model.fit(train_spectrogram_ds_ES_A,\n",
    "                     validation_data=val_spectrogram_ds_ES_A,\n",
    "                     epochs=EPOCHS,\n",
    "                     callbacks=tf.keras.callbacks.EarlyStopping(verbose=1, patience=2),\n",
    "                    ), model.save(new)"
   ]
  },
  {
   "cell_type": "markdown",
   "id": "2d59b3f1-98e3-4213-b34c-0a90ac0076dd",
   "metadata": {},
   "source": [
    "## RMSProp"
   ]
  },
  {
   "cell_type": "code",
   "execution_count": null,
   "id": "8fbd8dbb-8415-415b-955e-78393cb561f9",
   "metadata": {},
   "outputs": [],
   "source": [
    "optimizer = tf.keras.optimizers.RMSprop()\n",
    "hist_rmsprop_001, model_rmsprop_001 = build_and_train(optimizer, 'RMSProp')"
   ]
  },
  {
   "cell_type": "markdown",
   "id": "c350ade5-d265-4f40-9618-40afd372d9b1",
   "metadata": {},
   "source": [
    "## Adam"
   ]
  },
  {
   "cell_type": "code",
   "execution_count": null,
   "id": "f8de2122-abfe-409f-b12a-25a0da7fcc49",
   "metadata": {},
   "outputs": [],
   "source": [
    "optimizer = tf.keras.optimizers.Adam(learning_rate = 0.001, beta_1 = 0.9, beta_2 = 0.999)\n",
    "hist_adam_001, model_adam_001 = build_and_train(optimizer, 'Adam')"
   ]
  },
  {
   "cell_type": "markdown",
   "id": "5bc563b2-b6ac-4548-94bf-f13afbdd595c",
   "metadata": {},
   "source": [
    "## AdamW"
   ]
  },
  {
   "cell_type": "code",
   "execution_count": null,
   "id": "c647659f-fa63-4760-b0b2-a81b018b4b97",
   "metadata": {},
   "outputs": [],
   "source": [
    "optimizer = tf.keras.optimizers.AdamW(\n",
    "    learning_rate=0.001,\n",
    "    weight_decay=0.004,\n",
    "    beta_1=0.9,\n",
    "    beta_2=0.999,\n",
    "    epsilon=1e-07)\n",
    "    #tf.keras.optimizers.SGD(learning_rate = 0.01, momentum = 0.9)\n",
    "hist_adamw_001, model_adamw_001 = build_and_train(optimizer, 'adamw')"
   ]
  },
  {
   "cell_type": "markdown",
   "id": "cf971972-ceee-4485-95de-7c9871c5bea8",
   "metadata": {},
   "source": [
    "## Adamax"
   ]
  },
  {
   "cell_type": "code",
   "execution_count": null,
   "id": "2039948d-5ced-480b-979f-31e58d61d4e2",
   "metadata": {},
   "outputs": [],
   "source": [
    "optimizer = tf.keras.optimizers.Adamax(learning_rate = 0.001, beta_1 = 0.9, beta_2 = 0.999)\n",
    "hist_adamax_001, model_adamax_001 = build_and_train(optimizer, 'Adamax')"
   ]
  },
  {
   "cell_type": "markdown",
   "id": "2cfb657a-bc63-47dd-8133-7352aa051e4f",
   "metadata": {},
   "source": [
    "## Adagrad"
   ]
  },
  {
   "cell_type": "code",
   "execution_count": null,
   "id": "dd1a2c54-5d8b-497e-ac92-67ac27253787",
   "metadata": {},
   "outputs": [],
   "source": [
    "optimizer = tf.keras.optimizers.Adagrad(learning_rate=0.01)\n",
    "hist_adagrad_001, model_adagrad_001 = build_and_train(optimizer, 'AdaGrad')"
   ]
  },
  {
   "cell_type": "markdown",
   "id": "a4db2b53-c769-415b-9a18-8c1d2dd34c58",
   "metadata": {},
   "source": [
    "## Nadam"
   ]
  },
  {
   "cell_type": "code",
   "execution_count": null,
   "id": "c8dd2054-3259-43c7-b777-1eca647d63ca",
   "metadata": {},
   "outputs": [],
   "source": [
    "optimizer = tf.keras.optimizers.Nadam(learning_rate=0.001, beta_1=0.9, beta_2=0.999)\n",
    "hist_nadam_001, model_nadam_001 = build_and_train(optimizer, 'Nadam')"
   ]
  },
  {
   "cell_type": "markdown",
   "id": "5fd25051-5922-4094-8359-5bbef665f829",
   "metadata": {},
   "source": [
    "## Nesterov"
   ]
  },
  {
   "cell_type": "code",
   "execution_count": null,
   "id": "e7025d72-a925-4a36-8953-dc7c2f5eb6c1",
   "metadata": {},
   "outputs": [],
   "source": [
    "optimizer = tf.keras.optimizers.SGD(learning_rate=0.01, momentum=0.9, nesterov=True)\n",
    "hist_nesterov_001, model_nesterov_001 = build_and_train(optimizer, 'Nesterov')"
   ]
  },
  {
   "cell_type": "markdown",
   "id": "357528ef-b9bc-4e4b-b022-db3f43d895c9",
   "metadata": {},
   "source": [
    "## SGD"
   ]
  },
  {
   "cell_type": "code",
   "execution_count": null,
   "id": "df14e41b-1a2a-4606-8121-c496204ea580",
   "metadata": {},
   "outputs": [],
   "source": [
    "optimizer = tf.keras.optimizers.SGD(learning_rate=0.01, momentum=0.9)\n",
    "hist_sgd_001, model_sgd_001 = build_and_train(optimizer, 'sgd')"
   ]
  },
  {
   "cell_type": "markdown",
   "id": "75ed801c-ab73-404c-97b6-9628c8c5dbdd",
   "metadata": {},
   "source": [
    "## Momentum"
   ]
  },
  {
   "cell_type": "code",
   "execution_count": null,
   "id": "429ce2ea-cdc3-4168-b7a5-307ebfda020c",
   "metadata": {},
   "outputs": [],
   "source": [
    "optimizer = tf.keras.optimizers.SGD(learning_rate = 0.01, momentum = 0.9)\n",
    "hist_momentum_001, model_momentum_001 = build_and_train(optimizer, 'momentum')"
   ]
  },
  {
   "cell_type": "markdown",
   "id": "a66be77b-8f77-499d-8c05-feed32d3a9bf",
   "metadata": {},
   "source": [
    "# Create Graphs for Accuracy and Loss"
   ]
  },
  {
   "cell_type": "code",
   "execution_count": null,
   "id": "89c42817-ef0f-4e4b-94b9-ab576bc438b6",
   "metadata": {},
   "outputs": [],
   "source": [
    "for loss in (\"loss\", \"val_loss\"):\n",
    "    params = {'axes.labelsize': 20,\n",
    "              'axes.titlesize': 20,}\n",
    "    plt.rcParams.update(params)\n",
    "    plt.figure(figsize=(12, 8))\n",
    "    opt_names = \"SGD Momentum Nesterov AdaGrad RMSProp Adam AdamW Adamax Nadam\"\n",
    "    for hist, opt_name in zip((hist_sgd_001, hist_momentum_001, hist_nesterov_001,\n",
    "                               hist_adagrad_001, hist_rmsprop_001, hist_adam_001,\n",
    "                               hist_adamw_001, hist_adamax_001, hist_nadam_001),\n",
    "                               opt_names.split()):\n",
    "        plt.plot(hist.history[loss], label=f\"{opt_name}\", linewidth=3)\n",
    "\n",
    "    plt.grid()\n",
    "    plt.xlabel(\"Epochs\")\n",
    "    plt.ylabel({\"loss\": \"Training loss\", \"val_loss\": \"Validation loss\"}[loss])\n",
    "    plt.legend(loc=\"upper right\", fontsize=18)\n",
    "    plt.axis([0, 10, 0.00001, 2.4])\n",
    "    plt.show()"
   ]
  },
  {
   "cell_type": "code",
   "execution_count": null,
   "id": "8a5679e8-7826-4737-9dbc-8a80783dd6fb",
   "metadata": {},
   "outputs": [],
   "source": [
    "for accuracy in (\"accuracy\", \"val_accuracy\"):\n",
    "    plt.figure(figsize=(12, 8))\n",
    "    opt_names = \"SGD Momentum Nesterov AdaGrad RMSProp Adam AdamW Adamax Nadam\"\n",
    "    for hist, opt_name in zip((hist_sgd_001, hist_momentum_001, hist_nesterov_001,\n",
    "                               hist_adagrad_001, hist_rmsprop_001, hist_adam_001,\n",
    "                               hist_adamw_001, hist_adamax_001, hist_nadam_001),\n",
    "                               opt_names.split()):\n",
    "        plt.plot(hist.history[accuracy], label=f\"{opt_name}\", linewidth=3)\n",
    "\n",
    "    plt.grid()\n",
    "    plt.xlabel(\"Epochs\")\n",
    "    plt.ylabel({\"accuracy\": \"Training acc\", \"val_accuracy\": \"Validation acc\"}[accuracy])\n",
    "    plt.legend(loc=\"lower right\", fontsize=18)\n",
    "    plt.axis([0.2, 10, 0, 1.01])\n",
    "    plt.show()"
   ]
  },
  {
   "cell_type": "markdown",
   "id": "2dfd79cc-43f2-444b-80cc-ec6135c621ce",
   "metadata": {},
   "source": [
    "# Load Models"
   ]
  },
  {
   "cell_type": "code",
   "execution_count": null,
   "id": "f6d0efe3-aaae-47af-abed-853dcc53a501",
   "metadata": {},
   "outputs": [],
   "source": [
    "model_001 = load_model('model_RMSProp_ES_specA.keras')\n",
    "model_002 = load_model('model_Adam_ES_specA.keras')\n",
    "model_003 = load_model('model_AdamW_ES_specA.keras')\n",
    "model_004 = load_model('model_Adamax_ES_specA.keras')\n",
    "model_005 = load_model('model_AdaGrad_ES_specA.keras')\n",
    "model_006 = load_model('model_Nadam_ES_specA.keras')\n",
    "model_007 = load_model('model_Nesterov_ES_specA.keras')\n",
    "model_008 = load_model('model_sgd_ES_specA.keras')\n",
    "model_009 = load_model('model_momentum_ES_specA.keras')"
   ]
  },
  {
   "cell_type": "markdown",
   "id": "e0e553e4-4525-4854-b0e9-5c1812c4ce4a",
   "metadata": {},
   "source": [
    "## Evaluate Models"
   ]
  },
  {
   "cell_type": "code",
   "execution_count": null,
   "id": "775db10c-61c2-48d6-9ca9-ffde82e0f849",
   "metadata": {},
   "outputs": [],
   "source": [
    "rmsprop_accuracy0001 = model_001.evaluate(test_spectrogram_ds_ES_A, return_dict=True)\n",
    "adam_accuracy0001 = model_002.evaluate(test_spectrogram_ds_ES_A, return_dict=True)\n",
    "adamW_accuracy0001 = model_003.evaluate(test_spectrogram_ds_ES_A, return_dict=True)\n",
    "adamax_accuracy0001 = model_004.evaluate(test_spectrogram_ds_ES_A, return_dict=True)\n",
    "adagrad_accuracy0001 = model_005.evaluate(test_spectrogram_ds_ES_A, return_dict=True)\n",
    "nadam_accuracy0001 = model_006.evaluate(test_spectrogram_ds_ES_A, return_dict=True)\n",
    "nesterov_accuracy0001 = model_007.evaluate(test_spectrogram_ds_ES_A, return_dict=True)\n",
    "sgd_accuracy0001 = model_008.evaluate(test_spectrogram_ds_ES_A, return_dict=True)\n",
    "momentum_accuracy0001 = model_009.evaluate(test_spectrogram_ds_ES_A, return_dict=True)\n",
    "print()\n",
    "print(f'RMSProp:  {rmsprop_accuracy0001}')\n",
    "print(f'Adam:     {adam_accuracy0001}')\n",
    "print(f'AdamW:    {adamW_accuracy0001}')\n",
    "print(f'Adamax:   {adamax_accuracy0001}')\n",
    "print(f'AdaGrad:  {adagrad_accuracy0001}')\n",
    "print(f'Nadam:    {nadam_accuracy0001}')\n",
    "print(f'Nesterov: {nesterov_accuracy0001}')\n",
    "print(f'SGD:      {sgd_accuracy0001}')\n",
    "print(f'Momentum: {momentum_accuracy0001}')"
   ]
  },
  {
   "cell_type": "markdown",
   "id": "f76478cc-2b3c-4e1b-9c27-dc37d581cf62",
   "metadata": {},
   "source": [
    "## Predictions"
   ]
  },
  {
   "cell_type": "code",
   "execution_count": null,
   "id": "8d88e0a5-11ca-47fa-8a21-60f2daf0b5cc",
   "metadata": {},
   "outputs": [],
   "source": [
    "# Labels\n",
    "y_true = tf.concat(list(test_spectrogram_ds_ES_A.map(lambda s,lab: lab)), axis=0)\n",
    "\n",
    "# RMSProp\n",
    "y_pred_rmsprop2 = model_001.predict(test_spectrogram_ds_ES_A)\n",
    "y_pred_rms2 = tf.argmax(y_pred_rmsprop2, axis=1)\n",
    "\n",
    "# Adam\n",
    "y_pred_adam2 = model_002.predict(test_spectrogram_ds_ES_A)\n",
    "y_pred_a2 = tf.argmax(y_pred_adam2, axis=1)\n",
    "\n",
    "# AdamW\n",
    "y_pred_adamw2 = model_002.predict(test_spectrogram_ds_ES_A)\n",
    "y_pred_aw2 = tf.argmax(y_pred_adamw2, axis=1)\n",
    "\n",
    "# Adamax\n",
    "y_pred_adamax2 = model_004.predict(test_spectrogram_ds_ES_A)\n",
    "y_pred_adax2 = tf.argmax(y_pred_adamax2, axis=1)\n",
    "\n",
    "# AdaGrad\n",
    "y_pred_adagrad2 = model_005.predict(test_spectrogram_ds_ES_A)\n",
    "y_pred_ag2 = tf.argmax(y_pred_adagrad2, axis=1)\n",
    "\n",
    "# Nadam\n",
    "y_pred_nadam2 = model_006.predict(test_spectrogram_ds_ES_A)\n",
    "y_pred_na2 = tf.argmax(y_pred_nadam2, axis=1)\n",
    "\n",
    "# Nesterov\n",
    "y_pred_nesterov2 = model_007.predict(test_spectrogram_ds_ES_A)\n",
    "y_pred_ne2 = tf.argmax(y_pred_nesterov2, axis=1)\n",
    "\n",
    "# SGD\n",
    "y_pred_sgd2 = model_008.predict(test_spectrogram_ds_ES_A)\n",
    "y_pred_sg2 = tf.argmax(y_pred_sgd2, axis=1)\n",
    "\n",
    "# Momentum\n",
    "y_pred_momentum2 = model_009.predict(test_spectrogram_ds_ES_A)\n",
    "y_pred_mo2 = tf.argmax(y_pred_momentum2, axis=1)"
   ]
  },
  {
   "cell_type": "markdown",
   "id": "0e2be56d-1faf-4c02-836b-79f755a5cb8c",
   "metadata": {},
   "source": [
    "## Confusion Matrices"
   ]
  },
  {
   "cell_type": "code",
   "execution_count": null,
   "id": "e0aec2fd-ed7b-45fb-b5bf-91eab10b9442",
   "metadata": {},
   "outputs": [],
   "source": [
    "from sklearn.metrics import ConfusionMatrixDisplay\n",
    "from sklearn.metrics import confusion_matrix"
   ]
  },
  {
   "cell_type": "code",
   "execution_count": null,
   "id": "8317d0d8-3a3c-435e-a11d-dfad35b73e80",
   "metadata": {},
   "outputs": [],
   "source": [
    "def c_matrix(cm, title_opt3):\n",
    "    optimizer_used3 = title_opt3\n",
    "    # Normalise\n",
    "    cmn = cm.astype('float') / cm.sum(axis=1)[:, np.newaxis]\n",
    "    fig, ax = plt.subplots(figsize=(10,8))\n",
    "    sns.heatmap(cmn, annot=True, fmt='.2f', xticklabels = label_names_ES_A, yticklabels = label_names_ES_A)\n",
    "    plt.title(f'Optimizer Used: {optimizer_used3}')\n",
    "    plt.ylabel('Actual')\n",
    "    plt.xlabel('Predicted')\n",
    "    plt.show(block=False)"
   ]
  },
  {
   "cell_type": "markdown",
   "id": "018be494-bffd-4fae-ae86-db69663c99ac",
   "metadata": {},
   "source": [
    "## RMSProp"
   ]
  },
  {
   "cell_type": "code",
   "execution_count": null,
   "id": "594c626f-9794-49b6-b3c1-8730a915c008",
   "metadata": {},
   "outputs": [],
   "source": [
    "cm3 = confusion_matrix(y_true, y_pred_rms2)\n",
    "c_matrix(cm3, 'RMSProp')"
   ]
  },
  {
   "cell_type": "markdown",
   "id": "8f44bc63-deb6-42d9-bdf6-a3687d48d242",
   "metadata": {},
   "source": [
    "## Adam"
   ]
  },
  {
   "cell_type": "code",
   "execution_count": null,
   "id": "a7e01780-58ab-4f26-986d-0b96666ecd82",
   "metadata": {},
   "outputs": [],
   "source": [
    "cm_adam3 = confusion_matrix(y_true, y_pred_a2)\n",
    "c_matrix(cm_adam3, 'Adam')"
   ]
  },
  {
   "cell_type": "markdown",
   "id": "7f4c4126-4d08-484a-90d2-638d6dbd8ea6",
   "metadata": {},
   "source": [
    "## AdamW"
   ]
  },
  {
   "cell_type": "code",
   "execution_count": null,
   "id": "543d75f6-a0f5-4176-b386-bed89dd0a268",
   "metadata": {},
   "outputs": [],
   "source": [
    "cm_adamw3 = confusion_matrix(y_true, y_pred_aw2)\n",
    "c_matrix(cm_adamw3, 'AdamW')"
   ]
  },
  {
   "cell_type": "markdown",
   "id": "c626d658-73ec-4db4-82bb-e965c63618df",
   "metadata": {},
   "source": [
    "## Adamax"
   ]
  },
  {
   "cell_type": "code",
   "execution_count": null,
   "id": "f3a3c05b-a247-41e1-9d41-4a987705006d",
   "metadata": {},
   "outputs": [],
   "source": [
    "cm_adamax3 = confusion_matrix(y_true, y_pred_adax2)\n",
    "c_matrix(cm_adamax3, 'Adamax')"
   ]
  },
  {
   "cell_type": "markdown",
   "id": "b2e240ff-a24c-4c1e-a75c-60d3a520ce57",
   "metadata": {},
   "source": [
    "## AdaGrad"
   ]
  },
  {
   "cell_type": "code",
   "execution_count": null,
   "id": "570a1b9b-3f7c-4ba0-a2c1-103f2fdd0a1c",
   "metadata": {},
   "outputs": [],
   "source": [
    "cm_adagrad3 = confusion_matrix(y_true, y_pred_ag2)\n",
    "c_matrix(cm_adagrad3, 'AdaGrad')"
   ]
  },
  {
   "cell_type": "markdown",
   "id": "b8a96e75-8f68-4771-94d5-615650263811",
   "metadata": {},
   "source": [
    "## Nadam"
   ]
  },
  {
   "cell_type": "code",
   "execution_count": null,
   "id": "9e451c8c-fea4-47f8-8301-7e0d0461a870",
   "metadata": {},
   "outputs": [],
   "source": [
    "cm_nadam3 = confusion_matrix(y_true, y_pred_na2)\n",
    "c_matrix(cm_nadam3, 'Nadam')"
   ]
  },
  {
   "cell_type": "markdown",
   "id": "4d8b5338-005f-4bc2-8365-6d120a2e4b46",
   "metadata": {},
   "source": [
    "## Nesterov"
   ]
  },
  {
   "cell_type": "code",
   "execution_count": null,
   "id": "ab55afcc-e946-482b-b641-0e3b0b966d75",
   "metadata": {},
   "outputs": [],
   "source": [
    "cm_nesterov3 = confusion_matrix(y_true, y_pred_ne2)\n",
    "c_matrix(cm_nesterov3, 'Nesterov')"
   ]
  },
  {
   "cell_type": "markdown",
   "id": "aed9673f-6432-47a5-b795-62826336cac3",
   "metadata": {},
   "source": [
    "## SGD"
   ]
  },
  {
   "cell_type": "code",
   "execution_count": null,
   "id": "e12b2031-5a36-44fc-a89a-e9e9d5183c40",
   "metadata": {},
   "outputs": [],
   "source": [
    "cm_sgd3 = confusion_matrix(y_true, y_pred_sg2)\n",
    "c_matrix(cm_sgd3, 'SGD')"
   ]
  },
  {
   "cell_type": "markdown",
   "id": "43e0a8cd-ba94-4959-96b4-06b8e12a447c",
   "metadata": {},
   "source": [
    "## Momentum"
   ]
  },
  {
   "cell_type": "code",
   "execution_count": null,
   "id": "b1743892-228d-4dd2-9019-e21dbc3bb26a",
   "metadata": {},
   "outputs": [],
   "source": [
    "cm_momentum3 = confusion_matrix(y_true, y_pred_mo2)\n",
    "c_matrix(cm_momentum3, 'Momentum')"
   ]
  },
  {
   "cell_type": "code",
   "execution_count": null,
   "id": "eb9d5927-39ba-4ced-9d2b-82574aa0c657",
   "metadata": {},
   "outputs": [],
   "source": []
  }
 ],
 "metadata": {
  "kernelspec": {
   "display_name": "Python 3 (ipykernel)",
   "language": "python",
   "name": "python3"
  },
  "language_info": {
   "codemirror_mode": {
    "name": "ipython",
    "version": 3
   },
   "file_extension": ".py",
   "mimetype": "text/x-python",
   "name": "python",
   "nbconvert_exporter": "python",
   "pygments_lexer": "ipython3",
   "version": "3.11.7"
  }
 },
 "nbformat": 4,
 "nbformat_minor": 5
}
